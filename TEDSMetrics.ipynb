{
  "nbformat": 4,
  "nbformat_minor": 0,
  "metadata": {
    "colab": {
      "name": "TEDSMetrics.ipynb",
      "provenance": [],
      "collapsed_sections": [],
      "include_colab_link": true
    },
    "kernelspec": {
      "name": "python3",
      "display_name": "Python 3"
    }
  },
  "cells": [
    {
      "cell_type": "markdown",
      "metadata": {
        "id": "view-in-github",
        "colab_type": "text"
      },
      "source": [
        "<a href=\"https://colab.research.google.com/github/seayjohnny/GunViolenceAnalysis/blob/master/TEDSMetrics.ipynb\" target=\"_parent\"><img src=\"https://colab.research.google.com/assets/colab-badge.svg\" alt=\"Open In Colab\"/></a>"
      ]
    },
    {
      "cell_type": "markdown",
      "metadata": {
        "id": "4s4czFoTtQi_",
        "colab_type": "text"
      },
      "source": [
        "The goal of this project is to predict the \"quality\" of support and treatment of drug and alcohol addicition for a given area by looking at the gun violence within the area. Here, I present multiple functions I will use to obtain a \"quality\" score for a given area during the training phases.\n",
        "\n",
        "\n",
        "---\n",
        "\n"
      ]
    },
    {
      "cell_type": "markdown",
      "metadata": {
        "id": "7r7hwiK-u2vv",
        "colab_type": "text"
      },
      "source": [
        "# Variables\n",
        "Before the different scores are laid out, it will be useful to state the many different variables and what they mean. \n",
        "\n",
        "| Coefficient (Sign)| Variable | Description |\n",
        "|------------------|:----------:|-----------------------------------------------------------------------------------------------------------------------|\n",
        "| $\\omega_1$ (+)  | $w_1$ | The number of clients who ***waited 1-7 days*** for treatment to begin. |\n",
        "| $\\omega_2$ (+, -)| $w_2$ | The number of clients who ***waited 8-14 days*** for treatment to begin. |\n",
        "| $\\omega_3$ (+, -) | $w_3$ | The number of clients who ***waited 15-30 days*** for treatment to begin. |\n",
        "| $\\omega_4$ (-) | $w_4$ | The number of clients who ***waited 31+ days*** for treatment to begin. |\n",
        "| $\\lambda_{30}$ (-) | $l_{30}$ | The number of clients who ***stayed for less than 31 days***. |\n",
        "| $\\lambda_{60}$ (+, -) | $l_{60}$ | The number of clients who ***stayed for 31-60 days***. |\n",
        "| $\\lambda_{90}$ (+, -) | $l_{90}$ | The number of clients who ***stayed for 61-90 days***. |\n",
        "| $\\lambda_{120}$ (+, -)| $l_{120}$ | The number of clients who ***stayed for 91-120 days***. |\n",
        "| $\\lambda_{180}$ (+, -)| $l_{180}$ | The number of clients who ***stayed for 121-180 days***. |\n",
        "| $\\lambda_{365}$ (+) | $l_{365}$ | The number of clients who ***stayed for 181-365 days***. |\n",
        "| $\\lambda_{366+}$ (+)| $l_{365+}$ | The number of clients who ***stayed for 366+ days***. |\n",
        "| $\\sigma_1$ (+)| $s_1$ | The number of clients who received a ***referral from an individual*** not included in any of the following categories. |\n",
        "| $\\sigma_2$ (+)| $s_2$ | The number of clients who received a ***referral from an alcohol/drug use care provider***. |\n",
        "| $\\sigma_3$ (+)| $s_3$ | The number of clients who received a ***referral from an other health care provider***. |\n",
        "| $\\sigma_4$ (+)| $s_4$ | The number of clients who received a ***referral from school***. |\n",
        "| $\\sigma_5$ (+)| $s_5$ | The number of clients who received a ***referral from an employer***. |\n",
        "| $\\sigma_6$ (+)| $s_6$ | The number of clients who received a ***referral from the community***. |\n",
        "| $\\sigma_7$ (-)| $s_7$ | The number of clients who received a ***criminal justice referral***. |\n",
        "| $\\rho_1$ (+)| $r_1$ | The number of clients who ***completed treatment***. |\n",
        "| $\\rho_2$ (-)| $r_2$ | The number of clients who ***dropped out of treatment***. |\n",
        "| $\\rho_3$ (-)| $r_3$ | The number of clients who were ***terminated by the facility***. |\n",
        "| $\\rho_4$ (+)| $r_4$ | The number of clients who ***transferred*** to another program or facility. |\n",
        "| $\\rho_5$ (-)| $r_5$ | The number of clients whose treatment was terminated because they were ***incarcerated***. |\n",
        "| $\\rho_6$ (+,-)| $r_6$ | The number of clients who ***died*** before treatment was completed or terminated. |\n",
        "\n",
        "<br>\n",
        "<br>\n",
        "\n",
        "It is most useful to represent these variables and their coefficients as vectors:\n",
        "\n",
        "$$\\text{Variables}$$\n",
        "$$\n",
        "\\begin{align} \n",
        "\\vec{w} &= (w_1, w_2, w_3,w_4) \\\\\n",
        "\\vec{l} &= (l_{30}, l_{60}, \\ldots, l_{366+})\\\\\n",
        "\\vec{s} &= (s_1, s_2, \\ldots, s_7)\\\\\n",
        "\\vec{r} &= (r_1, r_2, \\ldots, r_6)\n",
        "\\end{align}\n",
        "$$\n",
        "<br>\n",
        "$$\\text{Coefficients}$$\n",
        "$$\n",
        "\\begin{align} \n",
        "\\vec{\\omega} &= (\\omega_1, \\omega_2, \\omega_3, \\omega_4) \\\\\n",
        "\\vec{\\lambda} &= (\\lambda_{30}, \\lambda_{60}, \\ldots, \\lambda_{366+})\\\\\n",
        "\\vec{\\sigma} &= (\\sigma_1, \\sigma_2, \\ldots, \\sigma_7)\\\\\n",
        "\\vec{\\rho} &= (\\rho_1, \\rho_2, \\ldots, \\rho_6)\n",
        "\\end{align}\n",
        "$$\n"
      ]
    },
    {
      "cell_type": "markdown",
      "metadata": {
        "id": "H1HkUOKD25MU",
        "colab_type": "text"
      },
      "source": [
        "## Scores\n",
        "\n",
        "### Simple Scores\n",
        "The following table lists some simple scores.\n",
        "\n",
        "| Name | Function | Description |\n",
        "|----------------------|:--------------------------------------------------------------------------------------------:|--------------------------------------------------------------------|\n",
        "| Standby Score | <img  width =51 > $W(\\vec{\\omega} , \\vec{w} )=\\vec{\\omega} \\cdot\\vec{w} $<img  width =51 > | Scores the wait time for treatment after first request of service. |\n",
        "| Length-Of-Stay Score | <img  width =50 > $L(\\vec{\\lambda} , \\vec{l} )=\\vec{\\lambda} \\cdot\\vec{l} $<img  width =50 > | Scores the length of stay. |\n",
        "| Referral Score | <img  width =50 > $S(\\vec{\\sigma} , \\vec{s} )=\\vec{\\sigma} \\cdot\\vec{s} $<img  width =50 > | Score the referral of treatment. |\n",
        "| Discharge Score | <img  width =50 > $R(\\vec{\\rho} , \\vec{r} )=\\vec{\\rho} \\cdot\\vec{r} $<img  width =50 > | Scores the discharge of treatment.  |\n"
      ]
    },
    {
      "cell_type": "code",
      "metadata": {
        "id": "QBkZZsGMtL2o",
        "colab_type": "code",
        "colab": {}
      },
      "source": [
        ""
      ],
      "execution_count": 0,
      "outputs": []
    }
  ]
}