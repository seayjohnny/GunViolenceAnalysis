{
  "nbformat": 4,
  "nbformat_minor": 0,
  "metadata": {
    "colab": {
      "name": "TEDSMetrics.ipynb",
      "provenance": [],
      "collapsed_sections": [],
      "include_colab_link": true
    },
    "kernelspec": {
      "name": "python3",
      "display_name": "Python 3"
    }
  },
  "cells": [
    {
      "cell_type": "markdown",
      "metadata": {
        "id": "view-in-github",
        "colab_type": "text"
      },
      "source": [
        "<a href=\"https://colab.research.google.com/github/seayjohnny/GunViolenceAnalysis/blob/master/TEDSMetrics.ipynb\" target=\"_parent\"><img src=\"https://colab.research.google.com/assets/colab-badge.svg\" alt=\"Open In Colab\"/></a>"
      ]
    },
    {
      "cell_type": "markdown",
      "metadata": {
        "id": "4s4czFoTtQi_",
        "colab_type": "text"
      },
      "source": [
        "The goal of this project is to predict the \"quality\" of support and treatment of drug and alcohol addicition for a given area by looking at the gun violence within the area. Here, I present multiple functions I will use to obtain a \"quality\" score for a given area during the training phases.\n",
        "\n",
        "\n",
        "---\n",
        "\n"
      ]
    },
    {
      "cell_type": "markdown",
      "metadata": {
        "id": "7r7hwiK-u2vv",
        "colab_type": "text"
      },
      "source": [
        "Open in colab to view it..."
      ]
    }
  ]
}
